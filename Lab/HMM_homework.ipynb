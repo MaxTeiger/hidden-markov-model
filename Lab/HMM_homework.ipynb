{
  "nbformat": 4,
  "nbformat_minor": 0,
  "metadata": {
    "colab": {
      "name": "HMM_homework.ipynb",
      "provenance": []
    },
    "kernelspec": {
      "name": "python3",
      "display_name": "Python 3"
    }
  },
  "cells": [
    {
      "cell_type": "markdown",
      "metadata": {
        "id": "jp5XEDtvc65g",
        "colab_type": "text"
      },
      "source": [
        "# [Lab] Hidden Markov Model (HMM)\n",
        "###### *Pr : Jae Yun JUN KIM* \n",
        "######Date : *August 20, 2019*\n"
      ]
    },
    {
      "cell_type": "markdown",
      "metadata": {
        "id": "AIuHLB7ogzR1",
        "colab_type": "text"
      },
      "source": [
        "## I. Task "
      ]
    },
    {
      "cell_type": "markdown",
      "metadata": {
        "id": "jHvp4r4-heq5",
        "colab_type": "text"
      },
      "source": [
        "#### 1. Implement yourself the HMM algorithm to solve the evaluation and decoding problems for the Example given in class."
      ]
    },
    {
      "cell_type": "markdown",
      "metadata": {
        "id": "XJPj6GOnhmtR",
        "colab_type": "text"
      },
      "source": [
        "##### Partie cours"
      ]
    },
    {
      "cell_type": "markdown",
      "metadata": {
        "id": "tjn_Wl_Sc689",
        "colab_type": "text"
      },
      "source": [
        "The HMM algorithm is based on the Markov's property saying that : \n",
        "\n",
        "> \"The future is independent from the past given the present\"\n",
        "\n",
        "$Z(0) \\rightarrow Z(1) \\rightarrow Z(2) \\rightarrow ... \\rightarrow Z(t-1) \\rightarrow Z(t) \\rightarrow Z(t+1)$\n",
        "\n",
        "$Z(t)$ is a hidden state at time $t$\n",
        "\n"
      ]
    },
    {
      "cell_type": "markdown",
      "metadata": {
        "id": "5wAQpNtfh8di",
        "colab_type": "text"
      },
      "source": [
        "##### Partie code"
      ]
    },
    {
      "cell_type": "code",
      "metadata": {
        "id": "X91asj5ajmhK",
        "colab_type": "code",
        "colab": {}
      },
      "source": [
        "# import Librairies\n",
        "import numpy as np\n",
        "import random as rd \n",
        "import matplotlib.pyplot as plt"
      ],
      "execution_count": 0,
      "outputs": []
    },
    {
      "cell_type": "code",
      "metadata": {
        "id": "nLcXJHQWjqy3",
        "colab_type": "code",
        "colab": {}
      },
      "source": [
        "# Initialize transition probability and emission propability matrix\n",
        "a_ = np.array([[1,0,0,0],[0.2,0.3,0.1,0.4],[0.2,0.5,0.2,0.1],[0.7,0.1,0.1,0.1]])\n",
        "b_ = np.array([[1,0,0,0,0], [0,0.3,0.4,0.1,0.2], [0,0.1,0.1,0.7,0.1], [0,0.5,0.2,0.1,0.2]])\n",
        "X_ = np.array([1,3,2,0])\n",
        "X_til_ = np.array([0,1,2,3,4])\n",
        "Z_til_ = np.array([0,1,2,3])"
      ],
      "execution_count": 0,
      "outputs": []
    },
    {
      "cell_type": "code",
      "metadata": {
        "id": "y9DhPILHkc4Y",
        "colab_type": "code",
        "outputId": "a4ef90e1-5757-49b3-b4dd-35f39219f811",
        "colab": {
          "base_uri": "https://localhost:8080/",
          "height": 372
        }
      },
      "source": [
        "print(\"a : \\n\", a_, \"\\n\\nb : \\n\", b_, \"\\n\\nX : \\n\", X_, \\\n",
        "      \"\\n\\nPossible Xs : \\n\", X_til_, \"\\n\\nPossible Zs : \\n\", Z_til_)"
      ],
      "execution_count": 0,
      "outputs": [
        {
          "output_type": "stream",
          "text": [
            "a : \n",
            " [[1.  0.  0.  0. ]\n",
            " [0.2 0.3 0.1 0.4]\n",
            " [0.2 0.5 0.2 0.1]\n",
            " [0.7 0.1 0.1 0.1]] \n",
            "\n",
            "b : \n",
            " [[1.  0.  0.  0.  0. ]\n",
            " [0.  0.3 0.4 0.1 0.2]\n",
            " [0.  0.1 0.1 0.7 0.1]\n",
            " [0.  0.5 0.2 0.1 0.2]] \n",
            "\n",
            "X : \n",
            " [1 3 2 0] \n",
            "\n",
            "Possible X : \n",
            " [0 1 2 3 4] \n",
            "\n",
            "Possible Z : \n",
            " [0 1 2 3]\n"
          ],
          "name": "stdout"
        }
      ]
    },
    {
      "cell_type": "code",
      "metadata": {
        "id": "YLUrgMxWkkUQ",
        "colab_type": "code",
        "colab": {}
      },
      "source": [
        "class hidden_markov():\n",
        "  def __init__(self, a=None, b=None, Z_til=None, X_til=None, X=None, verbose=False):\n",
        "    # Transition probability matrix\n",
        "    self.a = a\n",
        "    # Emission probability matrix\n",
        "    self.b = b\n",
        "    # Z and X matrix\n",
        "    self.Z = np.zeros(X.shape[0]+1)\n",
        "    self.X = X\n",
        "    # Possible Z and X\n",
        "    self.Z_til=Z_til\n",
        "    self.X_til=X_til\n",
        "    #verbosity level\n",
        "    self.alphas = np.zeros([self.Z_til.shape[0], self.Z.shape[0]])\n",
        "\n",
        "    self.verbose = verbose\n",
        "\n",
        "  def initialize_first_z(self):\n",
        "    self.Z[0] = 1\n",
        "    self.alphas[int(self.Z[0]), 0] = 1\n",
        "\n",
        "  def evaluate(self):\n",
        "    self.initialize_first_z()\n",
        "    \n",
        "    if self.verbose : print(\"Initial Z=\", self.Z[0], \"\\nAlphas : \", self.alphas)\n",
        "    \n",
        "    for t in range(self.Z.shape[0]):\n",
        "      if t>0: \n",
        "        self.calculate_alphas(t)\n",
        "        np.set_printoptions(suppress=True)\n",
        "        if self.verbose : print(\"At time \", t, \" | Z=\", self.Z[t], \" | X=\", self.X[t-1], \\\n",
        "                                \"\\nalphas = \\n\", self.alphas)\n",
        "        \n",
        "\n",
        "    print(\"This scenario has : {} chances to happen.\".format(self.alphas[0,4]))\n",
        "  \n",
        "  def calculate_alphas(self,t):\n",
        "      x_at_time_t = int(self.X[t-1])\n",
        "      for z in self.Z_til:\n",
        "        for z_t_1 in self.Z_til:\n",
        "          z, z_t_1 = int(z), int(z_t_1)\n",
        "          self.alphas[z, t] += self.alphas[z_t_1, t-1]*self.a[z_t_1,z]*self.b[z,x_at_time_t]\n",
        "\n",
        "\n",
        "  def decode(self):\n",
        "\n",
        "    maxInColumns = np.amax(self.alphas, axis=0)\n",
        "\n",
        "    for t in range(self.Z.shape[0]):\n",
        "      \n",
        "      Z = np.where(self.alphas[:,t] == maxInColumns[t])[0][0]\n",
        "      print(\"At time \", t, \" | Z=\", Z, \" | X=\", self.X[t-1])\n",
        "      self.Z[t]=Z\n",
        "\n",
        "    print(\"most probable Z : \", self.Z)\n",
        "    print('Max value of every column: ', maxInColumns)\n",
        "\n",
        "\n"
      ],
      "execution_count": 0,
      "outputs": []
    },
    {
      "cell_type": "code",
      "metadata": {
        "id": "0yE6NIOvnESO",
        "colab_type": "code",
        "colab": {}
      },
      "source": [
        "c = hidden_markov(a=a_, b=b_, X_til=X_til_, Z_til=Z_til_, X=X_, verbose=True)"
      ],
      "execution_count": 0,
      "outputs": []
    },
    {
      "cell_type": "code",
      "metadata": {
        "id": "w0Ab2_BgnHsg",
        "colab_type": "code",
        "outputId": "93c61727-80c4-4524-9e90-338b3fb7452c",
        "colab": {
          "base_uri": "https://localhost:8080/",
          "height": 550
        }
      },
      "source": [
        "c.evaluate()"
      ],
      "execution_count": 0,
      "outputs": [
        {
          "output_type": "stream",
          "text": [
            "Initial Z= 1.0 \n",
            "Alphas :  [[0. 0. 0. 0. 0.]\n",
            " [1. 0. 0. 0. 0.]\n",
            " [0. 0. 0. 0. 0.]\n",
            " [0. 0. 0. 0. 0.]]\n",
            "At time  1  | Z= 0.0  | X= 1 \n",
            "alphas = \n",
            " [[0.   0.   0.   0.   0.  ]\n",
            " [1.   0.09 0.   0.   0.  ]\n",
            " [0.   0.01 0.   0.   0.  ]\n",
            " [0.   0.2  0.   0.   0.  ]]\n",
            "At time  2  | Z= 0.0  | X= 3 \n",
            "alphas = \n",
            " [[0.     0.     0.     0.     0.    ]\n",
            " [1.     0.09   0.0052 0.     0.    ]\n",
            " [0.     0.01   0.0217 0.     0.    ]\n",
            " [0.     0.2    0.0057 0.     0.    ]]\n",
            "At time  3  | Z= 0.0  | X= 2 \n",
            "alphas = \n",
            " [[0.     0.     0.     0.     0.    ]\n",
            " [1.     0.09   0.0052 0.0052 0.    ]\n",
            " [0.     0.01   0.0217 0.0005 0.    ]\n",
            " [0.     0.2    0.0057 0.001  0.    ]]\n",
            "At time  4  | Z= 0.0  | X= 0 \n",
            "alphas = \n",
            " [[0.     0.     0.     0.     0.0018]\n",
            " [1.     0.09   0.0052 0.0052 0.    ]\n",
            " [0.     0.01   0.0217 0.0005 0.    ]\n",
            " [0.     0.2    0.0057 0.001  0.    ]]\n",
            "This scenario has : 0.0018218000000000002 chances to happen.\n"
          ],
          "name": "stdout"
        }
      ]
    },
    {
      "cell_type": "code",
      "metadata": {
        "id": "gFql0zqXsxkX",
        "colab_type": "code",
        "outputId": "07492445-f8aa-4e93-ea1d-490d5f27ab72",
        "colab": {
          "base_uri": "https://localhost:8080/",
          "height": 141
        }
      },
      "source": [
        "c.decode()"
      ],
      "execution_count": 0,
      "outputs": [
        {
          "output_type": "stream",
          "text": [
            "At time  0  | Z= 1  | X= 0\n",
            "At time  1  | Z= 3  | X= 1\n",
            "At time  2  | Z= 2  | X= 3\n",
            "At time  3  | Z= 1  | X= 2\n",
            "At time  4  | Z= 0  | X= 0\n",
            "most probable Z :  [1. 3. 2. 1. 0.]\n",
            "Max value of every column:  [1.     0.2    0.0217 0.0052 0.0018]\n"
          ],
          "name": "stdout"
        }
      ]
    },
    {
      "cell_type": "code",
      "metadata": {
        "id": "YzTw1R1EuD4O",
        "colab_type": "code",
        "colab": {}
      },
      "source": [
        ""
      ],
      "execution_count": 0,
      "outputs": []
    }
  ]
}